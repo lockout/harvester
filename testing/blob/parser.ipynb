{
 "cells": [
  {
   "cell_type": "code",
   "execution_count": 1,
   "id": "6bf3916e-c3b3-4310-94b4-5d88f451090a",
   "metadata": {
    "tags": []
   },
   "outputs": [],
   "source": [
    "from json import loads\n",
    "from PIL import Image, ImageChops\n",
    "from io import BytesIO\n",
    "import numpy as np\n",
    "import cv2\n",
    "import base64\n",
    "\n",
    "def pil_load_image(filePath, taskNo=0):\n",
    "    with open(filePath, \"r\") as file:\n",
    "        fileData = file.read()\n",
    "    jsonData = loads(fileData)\n",
    "    imageb64 = jsonData[\"task_data\"][taskNo][\"content\"][1]\n",
    "    image = base64.b64decode(imageb64)\n",
    "    pilImage = Image.open(BytesIO(image))\n",
    "    return pilImage\n",
    "\n",
    "def pil_concat_diff(image1, image2, image3):\n",
    "    concat = Image.new('RGB', (image1.width * 3, image1.height))\n",
    "    concat.paste(image1, (0, 0))\n",
    "    concat.paste(image2, (image1.width + 1, 0))\n",
    "    concat.paste(image3, (image1.width * 2 + 1, 0))\n",
    "    return concat\n",
    "\n",
    "def pil_diff(image1, image2, taskNo=0):\n",
    "    pilimage1 = pil_load_image(image1, taskNo)\n",
    "    pilimage2 = pil_load_image(image2, taskNo)\n",
    "    diff = ImageChops.difference(pilimage1, pilimage2)\n",
    "    view = pil_concat_diff(diff, pilimage1, pilimage2)\n",
    "    view.show()\n",
    "\n",
    "def cv_load_image(filePath, taskNo=0):\n",
    "    with open(filePath, \"r\") as file:\n",
    "        fileData = file.read()\n",
    "    jsonData = loads(fileData)\n",
    "    imageb64 = jsonData[\"task_data\"][taskNo][\"content\"][1]\n",
    "    image = base64.b64decode(imageb64)\n",
    "    npImage = np.frombuffer(image, np.uint8)\n",
    "    cvImage = cv2.imdecode(npImage, cv2.IMREAD_COLOR)\n",
    "    return cvImage\n",
    "\n",
    "def cv_mse_diff(image1, image2, taskNo=0):\n",
    "    cvimage1 = cv_load_image(image1, taskNo)\n",
    "    cvimage2 = cv_load_image(image2, taskNo)\n",
    "    h, w, _ = cvimage1.shape\n",
    "    diff = cv2.subtract(cvimage1, cvimage2)\n",
    "    err = np.sum(diff**2)\n",
    "    mse = err/(float(h * w))\n",
    "    view = cv2.hconcat([diff, cvimage1, cvimage2])\n",
    "    cv2.imshow(str(mse), view)\n",
    "    cv2.waitKey(0)\n",
    "    cv2.destroyAllWindows()"
   ]
  },
  {
   "cell_type": "code",
   "execution_count": 18,
   "id": "cc8dd2a6-a300-4c70-847c-0695074f05b8",
   "metadata": {
    "tags": []
   },
   "outputs": [
    {
     "name": "stderr",
     "output_type": "stream",
     "text": [
      "Error: no \"view\" mailcap rules found for type \"image/png\"\n",
      "WARNING: You don't seem to have any mimeinfo.cache files.\n",
      "Try running the update-desktop-database command. If you\n",
      "don't have this command you should install the\n",
      "desktop-file-utils package. This package is available from\n",
      "http://freedesktop.org/wiki/Software/desktop-file-utils/\n",
      "No applications found for mimetype: image/png\n",
      ".[14080:14110:0722/151307.929236:ERROR:bus.cc(399)] Failed to connect to the bus: Failed to connect to socket /run/dbus/system_bus_socket: No such file or directory\n",
      "[14080:14114:0722/151308.145276:ERROR:bus.cc(399)] Failed to connect to the bus: Failed to connect to socket /run/dbus/system_bus_socket: No such file or directory\n",
      "[14080:14114:0722/151308.145432:ERROR:bus.cc(399)] Failed to connect to the bus: Failed to connect to socket /run/dbus/system_bus_socket: No such file or directory\n",
      "[14080:14110:0722/151308.162700:ERROR:bus.cc(399)] Failed to connect to the bus: Could not parse server address: Unknown address type (examples of valid types are \"tcp\" and on UNIX \"unix\")\n",
      "[14080:14110:0722/151308.162756:ERROR:bus.cc(399)] Failed to connect to the bus: Could not parse server address: Unknown address type (examples of valid types are \"tcp\" and on UNIX \"unix\")\n",
      "[14080:14110:0722/151308.162776:ERROR:bus.cc(399)] Failed to connect to the bus: Could not parse server address: Unknown address type (examples of valid types are \"tcp\" and on UNIX \"unix\")\n",
      "[14080:14110:0722/151308.162791:ERROR:bus.cc(399)] Failed to connect to the bus: Could not parse server address: Unknown address type (examples of valid types are \"tcp\" and on UNIX \"unix\")\n"
     ]
    },
    {
     "name": "stdout",
     "output_type": "stream",
     "text": [
      "Opening in existing browser session.\n"
     ]
    }
   ],
   "source": [
    "file1 = \"report_0fbb67c6:001:1.json\" # us-central1\n",
    "#file2 = \"report_0fbb67c6:001:2.json\"\n",
    "#file1 = \"report_7a1e9f9a:001:1.json\" # asia-south1\n",
    "#file2 = \"report_73850f4c:001:1.json\" # me-west1\n",
    "#file2 = \"report_0f940042:001:1.json\" # europe-southwest1\n",
    "#file2 = \"report_9cfb61e2:001:1.json\" # australa-southeast1\n",
    "#file2 = \"report_fe385158:001:1.json\" # south-america1\n",
    "#file2 = \"report_aaa406aa:001:1.json\" # europe-central1\n",
    "#file2 = \"report_8f95ce82:001:1.json\" # us-west1\n",
    "#file2 = \"report_8fe6fce6:001:1.json\" # asia-southeast1\n",
    "file2 = \"report_c834737a:001:1.json\" #northamerica-north1\n",
    "task = 5\n",
    "pil_diff(file1, file2, task)\n",
    "#cv_mse_diff(file1, file2, task)"
   ]
  }
 ],
 "metadata": {
  "kernelspec": {
   "display_name": "Python 3 (ipykernel)",
   "language": "python",
   "name": "python3"
  },
  "language_info": {
   "codemirror_mode": {
    "name": "ipython",
    "version": 3
   },
   "file_extension": ".py",
   "mimetype": "text/x-python",
   "name": "python",
   "nbconvert_exporter": "python",
   "pygments_lexer": "ipython3",
   "version": "3.11.4"
  }
 },
 "nbformat": 4,
 "nbformat_minor": 5
}
